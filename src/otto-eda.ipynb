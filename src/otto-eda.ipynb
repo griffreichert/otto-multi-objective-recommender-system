{
 "cells": [
  {
   "cell_type": "code",
   "execution_count": null,
   "metadata": {},
   "outputs": [],
   "source": [
    "# standard imports\n",
    "import pandas as pd\n",
    "import numpy as np\n",
    "from pathlib import Path\n",
    "import pickle\n",
    "from tqdm.auto import tqdm\n",
    "import time\n",
    "from datetime import timedelta\n",
    "from collections import Counter, defaultdict\n",
    "# import polars as pl\n",
    "\n",
    "# import defined file paths \n",
    "from config import *\n",
    "\n",
    "# data visualisation\n",
    "import matplotlib.pyplot as plt\n",
    "import seaborn as sns\n",
    "sns.set_theme()"
   ]
  },
  {
   "attachments": {},
   "cell_type": "markdown",
   "metadata": {},
   "source": [
    "https://www.kaggle.com/code/edwardcrookenden/otto-getting-started-eda-baseline"
   ]
  },
  {
   "cell_type": "code",
   "execution_count": null,
   "metadata": {},
   "outputs": [],
   "source": [
    "# train = pd.read_parquet(OPT_TRAIN_PATH)\n",
    "# test = pd.read_parquet(OPT_TEST_PATH)"
   ]
  },
  {
   "cell_type": "code",
   "execution_count": null,
   "metadata": {},
   "outputs": [],
   "source": [
    "with open(TRAIN_PATH, 'r') as f:\n",
    "    print(f'{len(f.readlines()):,} lines in the training data')"
   ]
  },
  {
   "cell_type": "code",
   "execution_count": null,
   "metadata": {},
   "outputs": [],
   "source": [
    "with open(TEST_PATH, 'r') as f:\n",
    "    print(f'{len(f.readlines()):,} lines in the training data')"
   ]
  },
  {
   "cell_type": "code",
   "execution_count": null,
   "metadata": {},
   "outputs": [],
   "source": [
    "sample_size = 200000\n",
    "\n",
    "chunks = pd.read_json(TRAIN_PATH, lines=True, chunksize=sample_size)\n",
    "\n",
    "for c in chunks:\n",
    "    train_sample = c.set_index('session')\n",
    "    break"
   ]
  },
  {
   "cell_type": "code",
   "execution_count": null,
   "metadata": {},
   "outputs": [],
   "source": [
    "train_sample.head()"
   ]
  },
  {
   "cell_type": "code",
   "execution_count": null,
   "metadata": {},
   "outputs": [],
   "source": [
    "first_session = train_sample.iloc[0].item()\n",
    "print(f'The first session had {len(first_session)} actions')\n",
    "# Time of session\n",
    "time_elapsed = first_session[-1][\"ts\"] - first_session[0][\"ts\"]\n",
    "# The timestamp is in milliseconds since 00:00:00 UTC on 1 January 1970\n",
    "print(f'The first session elapsed: {str(timedelta(milliseconds=time_elapsed))}')\n",
    "\n",
    "action_counts = defaultdict(int)\n",
    "for action in first_session:\n",
    "    a_type = action['type']\n",
    "    action_counts[a_type] = action_counts[a_type] + 1\n",
    "    \n",
    "print(f'The first session had this frequency of actions: {action_counts}')\n"
   ]
  },
  {
   "cell_type": "code",
   "execution_count": null,
   "metadata": {},
   "outputs": [],
   "source": [
    "train_sample.iloc[0].item()"
   ]
  },
  {
   "cell_type": "code",
   "execution_count": null,
   "metadata": {},
   "outputs": [],
   "source": [
    "dict(Counter(action['aid'] for action in train_sample.iloc[0].item()))"
   ]
  },
  {
   "cell_type": "code",
   "execution_count": null,
   "metadata": {},
   "outputs": [],
   "source": [
    "action_type_count_list, aid_count_list, session_duration_list, session_action_count_list = ([] for _ in range(4))\n",
    "# frequency of actions of each type (click, cart, order)\n",
    "total_action_type_counts = Counter()\n",
    "# frequency of article ids\n",
    "total_aid_counts = Counter()\n",
    "for session, actions in tqdm(train_sample.itertuples(), total=len(train_sample)):\n",
    "    # count the frequency of each action type \n",
    "    action_type_count = Counter(action['type'] for action in actions)\n",
    "    # count the frequency of each article id\n",
    "    aid_count = Counter((action['aid'] for action in actions))\n",
    "    \n",
    "    # add action and aid counts from this session to the total\n",
    "    total_action_type_counts += action_type_count\n",
    "    total_aid_counts += aid_count\n",
    "    \n",
    "    # record the session duration\n",
    "    session_duration = actions[-1]['ts'] - actions[0]['ts']\n",
    "    \n",
    "    # append to lists\n",
    "    action_type_count_list.append(dict(action_type_count))\n",
    "    aid_count_list.append(dict(aid_count))\n",
    "    session_duration_list.append(session_duration)\n",
    "    session_action_count_list.append(len(actions)) # count of actions in this session is the length of the actions array\n",
    "\n",
    "train_sample['action_type_counts'] = action_type_count_list\n",
    "train_sample['aid_counts'] = aid_count_list\n",
    "train_sample['duration'] = session_duration_list\n",
    "train_sample['action_count'] = session_action_count_list"
   ]
  }
 ],
 "metadata": {
  "kernelspec": {
   "display_name": "kaggle",
   "language": "python",
   "name": "python3"
  },
  "language_info": {
   "codemirror_mode": {
    "name": "ipython",
    "version": 3
   },
   "file_extension": ".py",
   "mimetype": "text/x-python",
   "name": "python",
   "nbconvert_exporter": "python",
   "pygments_lexer": "ipython3",
   "version": "3.10.9"
  },
  "orig_nbformat": 4,
  "vscode": {
   "interpreter": {
    "hash": "322eec173d61d90e6abc7c2798a62763adfc1f2be87cfc5776c3d17ae1dd4c1b"
   }
  }
 },
 "nbformat": 4,
 "nbformat_minor": 2
}
